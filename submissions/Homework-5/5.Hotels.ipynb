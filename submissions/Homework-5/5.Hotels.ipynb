{
 "cells": [
  {
   "cell_type": "markdown",
   "metadata": {},
   "source": [
    "(In order to load the stylesheet of this notebook, execute the last code cell in this notebook)"
   ]
  },
  {
   "cell_type": "markdown",
   "metadata": {},
   "source": [
    "# Analyzing hotel ratings on Tripadvisor"
   ]
  },
  {
   "cell_type": "markdown",
   "metadata": {},
   "source": [
    "In this homework we will focus on practicing two techniques: web scraping and regression. For the first part, we will build upon the sample code from the Lecture and attempt to get some basic information for each hotel. Then, we will fit a regression model on this information and try to analyze it.   "
   ]
  },
  {
   "cell_type": "markdown",
   "metadata": {},
   "source": [
    "One of the main disadvantages of scraping a website instead of using an API is that, without any notice, the website may change its layout and render our code useless. Something like that happened in our case. Tripadvisor changed the layout of the buttons that we use to navigate between the different pages of the results. This was the main reason people were having problem with executing the code."
   ]
  },
  {
   "cell_type": "markdown",
   "metadata": {},
   "source": [
    "**Task 1 (20 pts)**\n",
    "\n",
    "The first task of the homework is to fix the scraping code. We basically need to replace the part where we are checking if there is another page and getting its link with new code that reflects the new navigation layout. "
   ]
  },
  {
   "cell_type": "markdown",
   "metadata": {},
   "source": [
    "** Task 2 (30 pts)**\n",
    "\n",
    "Then, for each hotel that our search returns, we will \"click\" (with the code of course) on it and scrape the information below.\n",
    "\n",
    "![Information to be scraped](hotel_info.png)\n",
    "\n",
    "Of course, feel free to collect even more data if you want. "
   ]
  },
  {
   "cell_type": "markdown",
   "metadata": {},
   "source": [
    "** Task 3 (20 pts) **\n",
    "\n",
    "Now, we will use regression to analyze this information. First, we will fit a linear regression model that predicts the average rating. For example, for the hotel above, the average rating is\n",
    "\n",
    "$$ \\text{AVG_SCORE} = \\frac{1*31 + 2*33 + 3*98 + 4*504 + 5*1861}{2527}$$\n",
    "\n",
    "Use the model to analyze the important factors that decide the $\\text{AVG_SCORE}$."
   ]
  },
  {
   "cell_type": "markdown",
   "metadata": {},
   "source": [
    "** Task 4 (30 pts) **\n",
    "\n",
    "Finally, we will use logistic regression to decide if a hotel is _excellent_ or not. We classify a hotel as _excellent_ if more than **60%** of its ratings are 5 stars. This is a binary attribute on which we can fit a logistic regression model. As before, use the model to analyze the data.\n",
    "\n",
    "-------"
   ]
  },
  {
   "cell_type": "markdown",
   "metadata": {},
   "source": [
    "In order to use code from a Python script file, we need to put that file in the same folder as the notebook and import it as a library. Then, we will be able to access it's functions. For example, in the case of the lecture code, we could do the following:\n",
    "\n",
    "``` python\n",
    "import scrape_solution as scrape\n",
    "\n",
    "scrape.get_city_page()\n",
    "```\n",
    "\n",
    "Of course, you might need to modify and restructure the code so that it returns what you need."
   ]
  },
  {
   "cell_type": "markdown",
   "metadata": {},
   "source": [
    "----"
   ]
  },
  {
   "cell_type": "code",
   "execution_count": 8,
   "metadata": {
    "collapsed": false,
    "scrolled": false
   },
   "outputs": [],
   "source": [
    "import scrape_solution as scrape\n",
    "# Task 1\n",
    "\n",
    "# it print and store information in csv file ragarding the following list\n",
    "#'star','total_review','excellent','very_good','average','poor','terrible',\n",
    "#'families','couples','solo','business','location','sleep_quality',\n",
    "#'room','service','value','cleaniness']\n",
    "\n",
    "# uncomment the following line to see the print results for task1\n",
    "#scrape.scrape_hotels('Boston','MA')\n"
   ]
  },
  {
   "cell_type": "code",
   "execution_count": 9,
   "metadata": {
    "collapsed": false
   },
   "outputs": [
    {
     "data": {
      "text/plain": [
       "'\\nf = open(\"hotels1.csv\", \"r\")\\nfor i in f:\\n    print i\\n    '"
      ]
     },
     "execution_count": 9,
     "metadata": {},
     "output_type": "execute_result"
    }
   ],
   "source": [
    "# Task 2\n",
    "# titles are added by hand\n",
    "# all information are obtained at task1, I simply added the titles in this step\n",
    "# uncomment the following to see sample print results.\n",
    "# for a better view of the information, open hotels1.csv.\n",
    "'''\n",
    "f = open(\"hotels1.csv\", \"r\")\n",
    "for i in f:\n",
    "    print i\n",
    "    '''"
   ]
  },
  {
   "cell_type": "code",
   "execution_count": 12,
   "metadata": {
    "collapsed": false
   },
   "outputs": [
    {
     "name": "stdout",
     "output_type": "stream",
     "text": [
      "    Excellent  VeryGood  Average  Poor  Terrible  Location  SleepQuality  \\\n",
      "0        1883       506       98    33        31       4.5           4.5   \n",
      "1         480       424      166    67        34       4.5           4.0   \n",
      "2         628       276       43     8        11       5.0           4.5   \n",
      "3        1179       496      105    30        19       5.0           4.5   \n",
      "4        1071       832      277    93        34       5.0           4.5   \n",
      "5         991       189       44    15        11       5.0           4.5   \n",
      "6        2372       442       81    39        13       5.0           5.0   \n",
      "7        1094       619      181    39        17       4.5           4.5   \n",
      "8        1884       509      107    46        20       5.0           4.5   \n",
      "9         246        85       21     7         1       4.5           4.0   \n",
      "10        197       224       74    19        19       4.5           4.5   \n",
      "11        575       731      283    91        27       4.5           4.0   \n",
      "12        809       419      112    41        29       4.5           4.5   \n",
      "13        418       262      107    50        28       4.5           4.5   \n",
      "14       1138       526      130    56        47       4.5           4.5   \n",
      "15        352       135       23     9         3       4.5           4.5   \n",
      "16        381       146       11    12        12       5.0           4.5   \n",
      "17        388       460       98    47        41       5.0           4.0   \n",
      "18        251       608      338   124        63       4.5           4.0   \n",
      "19        134       255       99    27        23       4.0           3.5   \n",
      "20       2032      1490      563   244       134       5.0           4.0   \n",
      "21        741      1316     1013   663       516       4.5           3.5   \n",
      "22        396       211       78    28        32       4.5           4.0   \n",
      "23        177        56        9     1         2       4.5           4.5   \n",
      "24        438       377      116    55        33       5.0           4.0   \n",
      "25        478       216       59    15         3       4.5           4.5   \n",
      "26        923       434      157    68        29       5.0           4.5   \n",
      "27        540       360      103    28        15       5.0           4.5   \n",
      "28        482       517      217    66        40       4.5           4.0   \n",
      "29        509       374      149    83        32       5.0           4.5   \n",
      "..        ...       ...      ...   ...       ...       ...           ...   \n",
      "47       1278       513      160    63        49       5.0           4.5   \n",
      "48        390       443      138    58        35       4.0           4.0   \n",
      "49        586       637      267    85        46       4.5           3.5   \n",
      "50        109       138       60    32        41       4.5           3.5   \n",
      "51         46       158      147    59        33       4.5           3.5   \n",
      "52        433       196       65    29        23       4.5           4.5   \n",
      "53        259       346      228    76        37       4.0           3.5   \n",
      "54        169       373      149    67        70       4.5           4.0   \n",
      "55        473       258       89    35        15       5.0           4.5   \n",
      "56        329       302       71    34        18       5.0           4.0   \n",
      "57        173       185       44    20        14       5.0           4.5   \n",
      "58        314        61       20     7         6       5.0           5.0   \n",
      "59        686       857      295    85        47       4.5           4.5   \n",
      "60         81       115       64    27        19       4.5           3.5   \n",
      "61        473       258       89    35        15       5.0           4.5   \n",
      "62        299       111       51    39        13       4.5           4.5   \n",
      "63         98       176      102    36        18       4.0           4.0   \n",
      "64        295       105       20     7         2       5.0           4.5   \n",
      "65        168        52        6     7         1       4.5           4.5   \n",
      "66         91       162       56    23        12       4.0           3.5   \n",
      "67         66        46       18     9         4       5.0           4.0   \n",
      "68         47        94       85    34        27       3.5           3.0   \n",
      "69         46       158      147    59        33       4.5           3.5   \n",
      "70         76       233      266   152        81       4.0           3.0   \n",
      "71        741      1316     1013   663       516       4.5           3.5   \n",
      "72        130       235      256   172       127       3.5           3.5   \n",
      "73         29       119      112    44        64       4.5           3.5   \n",
      "74         56       131      115    60        49       3.5           3.5   \n",
      "75         19        32       57    49        33       3.5           3.0   \n",
      "76          2         2        8     1         5       3.0           2.5   \n",
      "\n",
      "    Room  Service  Value  Cleaniness  \n",
      "0    4.5      4.5    4.5         5.0  \n",
      "1    4.0      4.5    4.0         4.5  \n",
      "2    4.5      4.5    4.5         4.5  \n",
      "3    4.5      4.5    4.0         4.5  \n",
      "4    4.5      4.5    4.0         4.5  \n",
      "5    4.5      5.0    4.5         5.0  \n",
      "6    5.0      5.0    4.5         5.0  \n",
      "7    4.5      4.5    4.0         4.5  \n",
      "8    4.5      5.0    4.5         5.0  \n",
      "9    4.5      4.5    4.5         5.0  \n",
      "10   4.0      4.0    4.0         4.5  \n",
      "11   4.0      4.0    4.0         4.5  \n",
      "12   4.5      4.5    4.0         4.5  \n",
      "13   4.0      4.5    3.5         4.5  \n",
      "14   4.5      4.5    4.0         4.5  \n",
      "15   4.5      4.5    4.5         5.0  \n",
      "16   4.5      4.5    4.0         4.5  \n",
      "17   4.0      4.0    4.0         4.5  \n",
      "18   3.5      4.0    4.0         4.0  \n",
      "19   4.0      4.0    4.0         4.0  \n",
      "20   4.0      4.5    4.0         4.5  \n",
      "21   3.0      3.5    3.5         3.5  \n",
      "22   4.0      4.5    3.5         4.5  \n",
      "23   4.5      4.5    4.5         5.0  \n",
      "24   4.0      4.0    4.0         4.5  \n",
      "25   4.5      4.5    4.0         4.5  \n",
      "26   4.0      4.5    4.0         4.5  \n",
      "27   4.0      4.5    4.0         4.5  \n",
      "28   4.0      4.0    4.0         4.5  \n",
      "29   4.0      4.0    4.0         4.5  \n",
      "..   ...      ...    ...         ...  \n",
      "47   4.5      4.5    4.0         4.5  \n",
      "48   4.0      4.0    4.0         4.5  \n",
      "49   4.0      4.0    3.5         4.5  \n",
      "50   3.5      3.5    4.0         3.5  \n",
      "51   3.0      3.5    3.5         3.5  \n",
      "52   4.5      4.5    4.0         4.5  \n",
      "53   4.0      4.0    3.5         4.0  \n",
      "54   3.5      4.0    4.0         4.0  \n",
      "55   4.5      4.5    4.0         4.5  \n",
      "56   4.0      4.0    4.0         4.5  \n",
      "57   4.0      4.0    4.0         4.5  \n",
      "58   4.5      4.5    4.0         5.0  \n",
      "59   4.0      4.0    3.5         4.5  \n",
      "60   3.5      4.0    3.5         4.0  \n",
      "61   4.5      4.5    4.0         4.5  \n",
      "62   4.5      4.5    4.0         4.5  \n",
      "63   4.0      4.0    3.5         4.0  \n",
      "64   4.5      4.5    4.5         4.5  \n",
      "65   5.0      4.5    4.0         5.0  \n",
      "66   4.5      4.0    4.0         4.5  \n",
      "67   4.0      4.0    4.0         4.5  \n",
      "68   3.5      3.5    3.5         4.0  \n",
      "69   3.0      3.5    3.5         3.5  \n",
      "70   3.0      3.5    3.0         3.5  \n",
      "71   3.0      3.5    3.5         3.5  \n",
      "72   3.0      3.5    3.5         3.5  \n",
      "73   2.5      3.5    3.5         3.5  \n",
      "74   3.0      3.5    3.5         3.5  \n",
      "75   3.0      3.0    3.0         3.0  \n",
      "76   2.5      2.5    3.0         3.0  \n",
      "\n",
      "[77 rows x 11 columns]\n",
      "0     11479.5\n",
      "1      4684.0\n",
      "2      4347.0\n",
      "3      8230.5\n",
      "4      9228.0\n",
      "5      5625.0\n",
      "6     13261.5\n",
      "7      8775.0\n",
      "8     11547.0\n",
      "9      1620.0\n",
      "10     2132.0\n",
      "11     6828.0\n",
      "12     6345.0\n",
      "13     3460.0\n",
      "14     8536.5\n",
      "...\n",
      "62     2308.5\n",
      "63     1505.0\n",
      "64     1930.5\n",
      "65     1053.0\n",
      "66     1376.0\n",
      "67      572.0\n",
      "68     1004.5\n",
      "69     1550.5\n",
      "70     2424.0\n",
      "71    14871.5\n",
      "72     2760.0\n",
      "73     1104.0\n",
      "74     1233.0\n",
      "75      570.0\n",
      "76       45.0\n",
      "Name: Total, Length: 77, dtype: float64\n"
     ]
    },
    {
     "data": {
      "text/plain": [
       "'\\nresults = model.fit()\\nprint results.summary()\\nprint \"Confidence Intervals:\", results.conf_int()\\nprint \"Parameters:\", results.params\\n'"
      ]
     },
     "execution_count": 12,
     "metadata": {},
     "output_type": "execute_result"
    }
   ],
   "source": [
    "# Task3\n",
    "# using methods in lecture12\n",
    "import time\n",
    "\n",
    "import numpy as np\n",
    "import matplotlib.pyplot as plt\n",
    "import pandas as pd\n",
    "\n",
    "import scipy as sp\n",
    "import scipy.sparse.linalg as linalg\n",
    "import scipy.cluster.hierarchy as hr\n",
    "from scipy.spatial.distance import pdist, squareform\n",
    "\n",
    "import sklearn.datasets as datasets\n",
    "import sklearn.metrics as metrics\n",
    "import sklearn.utils as utils\n",
    "import sklearn.linear_model as linear_model\n",
    "import sklearn.cross_validation as cross_validation\n",
    "import sklearn.cluster as cluster\n",
    "from sklearn.neighbors import KNeighborsClassifier\n",
    "from sklearn.decomposition import TruncatedSVD\n",
    "from sklearn.preprocessing import StandardScaler\n",
    "\n",
    "import statsmodels.api as sm\n",
    "\n",
    "from patsy import dmatrices\n",
    "\n",
    "import seaborn as sns\n",
    "%matplotlib inline\n",
    "reload(scrape)\n",
    "\n",
    "data = pd.read_csv('hotels1.csv')\n",
    "data['Total'] = data['Star'] * data['TotalReview']\n",
    "\n",
    "X = data.drop(['Star','TotalReview','Families','Couples','Solo','Business','Total'],axis=1)\n",
    "y = data['Total']\n",
    "model = sm.OLS(X, y)\n",
    "print X\n",
    "print y\n",
    "'''\n",
    "results = model.fit()\n",
    "print results.summary()\n",
    "print \"Confidence Intervals:\", results.conf_int()\n",
    "print \"Parameters:\", results.params\n",
    "'''"
   ]
  },
  {
   "cell_type": "code",
   "execution_count": null,
   "metadata": {
    "collapsed": false
   },
   "outputs": [],
   "source": []
  },
  {
   "cell_type": "code",
   "execution_count": 2,
   "metadata": {
    "collapsed": false
   },
   "outputs": [
    {
     "data": {
      "text/html": [
       "<link href='http://fonts.googleapis.com/css?family=EB+Garamond' rel='stylesheet' type='text/css'>\n",
       "<link href='http://fonts.googleapis.com/css?family=Alegreya+Sans:100,300,400,500,700,800,900,100italic,300italic,400italic,500italic,700italic,800italic,900italic' rel='stylesheet' type='text/css'>\n",
       "<link href='http://fonts.googleapis.com/css?family=Source+Code+Pro:300,400' rel='stylesheet' type='text/css'>\n",
       "<style>\n",
       "    @font-face {\n",
       "        font-family: \"Computer Modern\";\n",
       "        src: url('http://mirrors.ctan.org/fonts/cm-unicode/fonts/otf/cmunss.otf');\n",
       "    }\n",
       "    .code_cell {\n",
       "        width: 105ex !important ;\n",
       "        margin-bottom: 15px !important;\n",
       "    }\n",
       "    div.cell {\n",
       "        margin-left: auto;\n",
       "        margin-right: auto;\n",
       "        width: 70%;\n",
       "    }    \n",
       "    div.cell.selected {\n",
       "        border: thin rgba(171, 171, 171, 0.5) dashed;\n",
       "    }\n",
       "    h1 {\n",
       "        font-family: 'Alegreya Sans', sans-serif;\n",
       "    }\n",
       "    h2 {\n",
       "        font-family: 'EB Garamond', serif;\n",
       "    }\n",
       "    h3 {\n",
       "        font-family: 'EB Garamond', serif;\n",
       "        margin-top:12px;\n",
       "        margin-bottom: 3px;\n",
       "    }\n",
       "    h4 {\n",
       "        font-family: 'EB Garamond', serif;\n",
       "    }\n",
       "    h5 {\n",
       "        font-family: 'Alegreya Sans', sans-serif;\n",
       "    }\n",
       "    div.text_cell_render {\n",
       "        font-family: 'EB Garamond',Computer Modern, \"Helvetica Neue\", Arial, Helvetica, Geneva, sans-serif;\n",
       "        line-height: 145%;\n",
       "        font-size: 140%;\n",
       "    }\n",
       "    div.input_area {\n",
       "        border-color: rgba(0,0,0,0.10) !important;\n",
       "        background: #fafafa;\n",
       "    }\n",
       "    .CodeMirror {\n",
       "            font-family: \"Source Code Pro\";\n",
       "            font-size: 90%;\n",
       "    }\n",
       "    .prompt {\n",
       "        display: None;\n",
       "    }\n",
       "    .output {\n",
       "        padding-left: 50px;\n",
       "        padding-top: 5px;\n",
       "    }\n",
       "    .output_wrapper {\n",
       "        padding-left: 5px;\n",
       "        padding-top: inherit;\n",
       "    }\n",
       "    div.output_scroll {\n",
       "        width: inherit;\n",
       "    }\n",
       "    .inner_cell {\n",
       "        padding-left: 5px;\n",
       "    }\n",
       "    .text_cell_render h1 {\n",
       "        font-weight: 200;\n",
       "        font-size: 50pt;\n",
       "        line-height: 100%;\n",
       "        color:#CD2305;\n",
       "        margin-bottom: 0.5em;\n",
       "        margin-top: 0.5em;\n",
       "        display: block;\n",
       "    }\n",
       "    .text_cell_render h5 {\n",
       "        font-weight: 300;\n",
       "        font-size: 16pt;\n",
       "        color: #CD2305;\n",
       "        font-style: italic;\n",
       "        margin-bottom: .5em;\n",
       "        margin-top: 0.5em;\n",
       "        display: block;\n",
       "    }\n",
       "    .warning {\n",
       "        color: rgb( 240, 20, 20 )\n",
       "        }  \n",
       "</style>\n",
       "<script>\n",
       "    MathJax.Hub.Config({\n",
       "                        TeX: {\n",
       "                           extensions: [\"AMSmath.js\"]\n",
       "                           },\n",
       "                tex2jax: {\n",
       "                    inlineMath: [ ['$','$'], [\"\\\\(\",\"\\\\)\"] ],\n",
       "                    displayMath: [ ['$$','$$'], [\"\\\\[\",\"\\\\]\"] ]\n",
       "                },\n",
       "                displayAlign: 'center', // Change this to 'center' to center equations.\n",
       "                \"HTML-CSS\": {\n",
       "                    styles: {'.MathJax_Display': {\"margin\": 4}}\n",
       "                }\n",
       "        });\n",
       "</script>"
      ],
      "text/plain": [
       "<IPython.core.display.HTML at 0x3a6e978>"
      ]
     },
     "execution_count": 2,
     "metadata": {},
     "output_type": "execute_result"
    }
   ],
   "source": [
    "# Code for setting the style of the notebook\n",
    "from IPython.core.display import HTML\n",
    "def css_styling():\n",
    "    styles = open(\"../../theme/custom.css\", \"r\").read()\n",
    "    return HTML(styles)\n",
    "css_styling()"
   ]
  }
 ],
 "metadata": {
  "kernelspec": {
   "display_name": "Python 2",
   "language": "python",
   "name": "python2"
  },
  "language_info": {
   "codemirror_mode": {
    "name": "ipython",
    "version": 2
   },
   "file_extension": ".py",
   "mimetype": "text/x-python",
   "name": "python",
   "nbconvert_exporter": "python",
   "pygments_lexer": "ipython2",
   "version": "2.7.9"
  }
 },
 "nbformat": 4,
 "nbformat_minor": 0
}
