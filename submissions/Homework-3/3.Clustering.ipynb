{
 "cells": [
  {
   "cell_type": "markdown",
   "metadata": {},
   "source": [
    "(In order to load the stylesheet of this notebook, execute the last code cell in this notebook)"
   ]
  },
  {
   "cell_type": "markdown",
   "metadata": {},
   "source": [
    "# Clustering the data from the Mayor's 24-hour hotline in Boston"
   ]
  },
  {
   "cell_type": "markdown",
   "metadata": {},
   "source": [
    "## Introduction "
   ]
  },
  {
   "cell_type": "markdown",
   "metadata": {},
   "source": [
    "In this assignment, we will do a clustering analysis on the 311 calls that we used in the previous homework. We will focus on choosing a value for k, clustering based on multiple features and detecting outliers.\n",
    "\n",
    "---------------------------"
   ]
  },
  {
   "cell_type": "code",
   "execution_count": 36,
   "metadata": {
    "collapsed": false
   },
   "outputs": [],
   "source": [
    "%matplotlib inline\n",
    "import pandas as pd\n",
    "import seaborn as sns\n",
    "from matplotlib import pyplot as plt"
   ]
  },
  {
   "cell_type": "code",
   "execution_count": null,
   "metadata": {
    "collapsed": false
   },
   "outputs": [],
   "source": [
    "boston = pd.read_csv('../Homework-2/cases_2015.csv')"
   ]
  },
  {
   "cell_type": "markdown",
   "metadata": {},
   "source": [
    "## Step 1. Simple clustering"
   ]
  },
  {
   "cell_type": "markdown",
   "metadata": {},
   "source": [
    "The first thing that we will try is to cluster the geolocation data of the calls. The geolocation of a record consists of a pair `(latitude, longitude)`, which represents the position of the record on the map. Since the dataset that we have spans only a small geographic location, i.e. Boston, we will use the Euclidean distance when measuring how close two points are. Techinically, we should pick a [projection](https://github.com/mbostock/d3/wiki/Geo-Projections) in order to transform the data into 2d, and measure  the Euclidean distance in the projected space."
   ]
  },
  {
   "cell_type": "markdown",
   "metadata": {},
   "source": [
    "Since we are dealing with numeric data, we might consider centering and normalizing them. In order to do that, check the [StandardScaler](http://scikit-learn.org/stable/modules/generated/sklearn.preprocessing.StandardScaler.html#sklearn.preprocessing.StandardScaler) from `scikit-learn`."
   ]
  },
  {
   "cell_type": "markdown",
   "metadata": {},
   "source": [
    "For exampe, the result of a clustering with 10 clusters is the following:\n",
    "\n",
    "\n",
    "![A clustering of the locations of the calls for k=10](clusters10.png)"
   ]
  },
  {
   "cell_type": "markdown",
   "metadata": {},
   "source": [
    "Filter the dataset to get the latitude and longitude, transform it as required and run the k-means clustering algorithm. Argue about the number of clusters you used. **(pts 50)**"
   ]
  },
  {
   "cell_type": "code",
   "execution_count": null,
   "metadata": {
    "collapsed": false
   },
   "outputs": [
    {
     "name": "stdout",
     "output_type": "stream",
     "text": [
      "(1, 93395.999999997468)\n",
      "(2, 48238.857418424239)\n",
      "(3, 32112.654052525042)\n",
      "(4, 21165.742901245794)\n",
      "(5, 16350.889180200842)\n",
      "(6, 13547.981118382579)\n",
      "(7, 11527.778745559643)\n",
      "(8, 9567.8523987705448)\n",
      "(9, 7814.739332014864)\n",
      "(10, 6836.1856748446335)\n",
      "(11, 5932.5954086723605)\n",
      "(12, 5275.6210678272582)\n",
      "(13, 4886.8771438041113)\n",
      "(14, 4483.5360888715923)"
     ]
    }
   ],
   "source": [
    "import numpy as np\n",
    "import scipy as sp\n",
    "import sklearn.datasets as sd\n",
    "import sklearn.metrics as sm\n",
    "from sklearn.cluster import KMeans\n",
    "from sklearn.preprocessing import StandardScaler as std\n",
    "\n",
    "data = std().fit_transform(np.array(boston[['LATITUDE','LONGITUDE']]))\n",
    "\n",
    "# Find the most suitable K value\n",
    "def chooseKcluster(data,K):\n",
    "    count = 0\n",
    "    for k in range(1,K+1):\n",
    "        kmeans = KMeans(init='k-means++', n_clusters=k, n_init=10)\n",
    "        error = kmeans.fit_predict(data)\n",
    "        error = kmeans.inertia_\n",
    "        count = count + 1\n",
    "        print (count, error)\n",
    "        \n",
    "# run the following to see the error rate regarding to k values\n",
    "# we might see the error rate reaches convergence when k = 20\n",
    "# run the findK() takes a couple of minutes when k is set to large number\n",
    "# comment the following line to save time\n",
    "chooseKcluster(data,30)\n",
    "\n",
    "\n",
    "\n",
    "\n",
    "# the code below is from piazza page, thanks to Harry\n",
    "fig, ax = plt.subplots(1,1,figsize=(10,10))\n",
    "cmap = sns.color_palette(\"bright\", n_colors=4)\n",
    "cmap.extend(sns.hls_palette(n_colors=16, h=0.7, l=0.4, s=0.8))\n",
    "X = std().fit_transform(np.array(boston['LONGITUDE']))\n",
    "Y = std().fit_transform(np.array(boston['LATITUDE']))\n",
    "\n",
    "mean = KMeans(init='k-means++', n_clusters=20, n_init=20)\n",
    "mean.fit_predict(data)\n",
    "lbs = mean.labels_\n",
    "\n",
    "for i, label in enumerate(set(lbs)):\n",
    "    point_indices = np.where(lbs == label)[0]\n",
    "    point_indices = point_indices.tolist()\n",
    "    plt.scatter(X[point_indices], Y[point_indices], s=25, alpha=0.2, c=cmap[i], marker='+')"
   ]
  },
  {
   "cell_type": "markdown",
   "metadata": {},
   "source": [
    "-----"
   ]
  },
  {
   "cell_type": "markdown",
   "metadata": {},
   "source": [
    "## Step 2. Using multiple features"
   ]
  },
  {
   "cell_type": "markdown",
   "metadata": {},
   "source": [
    "The next step in our analysis is to use more features than just the geolocation of a record (whose clustering only gives us information about the neighborhoods, which should not be a huge revelation!) Filter the dataset to get more features, transform them as required and compute another clustering. You should argue about the quality of your clustering and use domain knowledge (i.e. the fact that you are locals) to explore the clusters you produced and present them to the reader. **(pts 30)**"
   ]
  },
  {
   "cell_type": "code",
   "execution_count": 35,
   "metadata": {
    "collapsed": false
   },
   "outputs": [
    {
     "name": "stdout",
     "output_type": "stream",
     "text": [
      "(1, 1045595023.9832969)\n",
      "(2, 252791836.51044863)\n",
      "(3, 88761696.969217554)\n",
      "(4, 42476234.125261307)\n",
      "(5, 19900729.737081759)\n",
      "(6, 15128885.625619439)\n",
      "(7, 12007846.022703381)\n",
      "(8, 8867798.474031752)\n",
      "(9, 6416158.7579004234)\n",
      "(10, 4884323.6237996928)\n",
      "(11, 3741294.9071201705)\n",
      "(12, 3190408.9152947599)\n",
      "(13, 2790733.2703276197)\n",
      "(14, 2427180.120352638)\n",
      "(15, 2085331.7966803517)\n",
      "(16, 1761025.8369400105)\n",
      "(17, 1525497.4402606017)\n",
      "(18, 1352702.0958752634)\n",
      "(19, 1159070.2074704973)\n",
      "(20, 1046187.7963990686)\n",
      "W should choose K = 10 since the error rate decreases to convergence when K>10\n"
     ]
    }
   ],
   "source": [
    "from sklearn.preprocessing import Imputer\n",
    "from sklearn.preprocessing import LabelEncoder\n",
    "from sklearn.preprocessing import StandardScaler\n",
    "\n",
    "\n",
    "new_Boston = boston[['fire_district','city_council_district','LOCATION_ZIPCODE','Property_ID']]\n",
    "new_Boston = Imputer(missing_values='NaN').fit_transform(new_Boston)\n",
    "\n",
    "new_Boston = StandardScaler().fit_transform(new_Boston)\n",
    "\n",
    "\n",
    "enc = LabelEncoder()\n",
    "uniq = pd.Series(boston['CASE_TITLE'].values.ravel()).unique()\n",
    "enc.fit(uniq)\n",
    "list(enc.classes_)\n",
    "new_boston1 = enc.transform(boston['CASE_TITLE'].values)\n",
    "\n",
    "Alist = new_Boston.tolist()\n",
    "Applist = new_boston1.tolist()\n",
    "\n",
    "l = len(new_boston1)\n",
    "for i in range(l):\n",
    "    Alist[i].append(Applist[i])\n",
    "new_training = np.array(Alist)\n",
    "\n",
    "chooseKcluster(new_training,20)\n",
    "    \n",
    "print \"W should choose K = 10 since the error rate decreases to convergence when K>10\""
   ]
  },
  {
   "cell_type": "markdown",
   "metadata": {},
   "source": [
    "-----"
   ]
  },
  {
   "cell_type": "markdown",
   "metadata": {},
   "source": [
    "## Step 3. Detecting outliers"
   ]
  },
  {
   "cell_type": "markdown",
   "metadata": {},
   "source": [
    "Now that we have a clustering of the records in the dataset, we can detect the outlying ones. These are the ones who are the farthest from the centroids of their clusters. Track them down and describe any interesting observations that you can make. **(pts 20)** "
   ]
  },
  {
   "cell_type": "code",
   "execution_count": null,
   "metadata": {
    "collapsed": false
   },
   "outputs": [],
   "source": [
    "# Calculate the Euclidean distance between 2 given points\n",
    "\n",
    "leng = len(centroids)\n",
    "\n",
    "outliers = range(leng)\n",
    "for k in outliers:\n",
    "    centers = centroids[k]\n",
    "    maxDist = 0\n",
    "    for i in range(l):\n",
    "        if labels[i] == k:\n",
    "            dist = np.sqrt(np.sum((new_training[i]-centers)**2))\n",
    "            if dist > maxDist:\n",
    "                maxDist = dist\n",
    "                outliers[k] = new_training[i]\n",
    "outliers"
   ]
  },
  {
   "cell_type": "code",
   "execution_count": 34,
   "metadata": {
    "collapsed": false
   },
   "outputs": [
    {
     "data": {
      "text/html": [
       "<link href='http://fonts.googleapis.com/css?family=EB+Garamond' rel='stylesheet' type='text/css'>\n",
       "<link href='http://fonts.googleapis.com/css?family=Alegreya+Sans:100,300,400,500,700,800,900,100italic,300italic,400italic,500italic,700italic,800italic,900italic' rel='stylesheet' type='text/css'>\n",
       "<link href='http://fonts.googleapis.com/css?family=Source+Code+Pro:300,400' rel='stylesheet' type='text/css'>\n",
       "<style>\n",
       "    @font-face {\n",
       "        font-family: \"Computer Modern\";\n",
       "        src: url('http://mirrors.ctan.org/fonts/cm-unicode/fonts/otf/cmunss.otf');\n",
       "    }\n",
       "    .code_cell {\n",
       "        width: 105ex !important ;\n",
       "        margin-bottom: 15px !important;\n",
       "    }\n",
       "    div.cell {\n",
       "        margin-left: auto;\n",
       "        margin-right: auto;\n",
       "        width: 70%;\n",
       "    }    \n",
       "    div.cell.selected {\n",
       "        border: thin rgba(171, 171, 171, 0.5) dashed;\n",
       "    }\n",
       "    h1 {\n",
       "        font-family: 'Alegreya Sans', sans-serif;\n",
       "    }\n",
       "    h2 {\n",
       "        font-family: 'EB Garamond', serif;\n",
       "    }\n",
       "    h3 {\n",
       "        font-family: 'EB Garamond', serif;\n",
       "        margin-top:12px;\n",
       "        margin-bottom: 3px;\n",
       "    }\n",
       "    h4 {\n",
       "        font-family: 'EB Garamond', serif;\n",
       "    }\n",
       "    h5 {\n",
       "        font-family: 'Alegreya Sans', sans-serif;\n",
       "    }\n",
       "    div.text_cell_render {\n",
       "        font-family: 'EB Garamond',Computer Modern, \"Helvetica Neue\", Arial, Helvetica, Geneva, sans-serif;\n",
       "        line-height: 145%;\n",
       "        font-size: 140%;\n",
       "    }\n",
       "    div.input_area {\n",
       "        border-color: rgba(0,0,0,0.10) !important;\n",
       "        background: #fafafa;\n",
       "    }\n",
       "    .CodeMirror {\n",
       "            font-family: \"Source Code Pro\";\n",
       "            font-size: 90%;\n",
       "    }\n",
       "    .prompt {\n",
       "        display: None;\n",
       "    }\n",
       "    .output {\n",
       "        padding-left: 50px;\n",
       "        padding-top: 5px;\n",
       "    }\n",
       "    .output_wrapper {\n",
       "        padding-left: 5px;\n",
       "        padding-top: inherit;\n",
       "    }\n",
       "    div.output_scroll {\n",
       "        width: inherit;\n",
       "    }\n",
       "    .inner_cell {\n",
       "        padding-left: 5px;\n",
       "    }\n",
       "    .text_cell_render h1 {\n",
       "        font-weight: 200;\n",
       "        font-size: 50pt;\n",
       "        line-height: 100%;\n",
       "        color:#CD2305;\n",
       "        margin-bottom: 0.5em;\n",
       "        margin-top: 0.5em;\n",
       "        display: block;\n",
       "    }\n",
       "    .text_cell_render h5 {\n",
       "        font-weight: 300;\n",
       "        font-size: 16pt;\n",
       "        color: #CD2305;\n",
       "        font-style: italic;\n",
       "        margin-bottom: .5em;\n",
       "        margin-top: 0.5em;\n",
       "        display: block;\n",
       "    }\n",
       "    .warning {\n",
       "        color: rgb( 240, 20, 20 )\n",
       "        }  \n",
       "</style>\n",
       "<script>\n",
       "    MathJax.Hub.Config({\n",
       "                        TeX: {\n",
       "                           extensions: [\"AMSmath.js\"]\n",
       "                           },\n",
       "                tex2jax: {\n",
       "                    inlineMath: [ ['$','$'], [\"\\\\(\",\"\\\\)\"] ],\n",
       "                    displayMath: [ ['$$','$$'], [\"\\\\[\",\"\\\\]\"] ]\n",
       "                },\n",
       "                displayAlign: 'center', // Change this to 'center' to center equations.\n",
       "                \"HTML-CSS\": {\n",
       "                    styles: {'.MathJax_Display': {\"margin\": 4}}\n",
       "                }\n",
       "        });\n",
       "</script>"
      ],
      "text/plain": [
       "<IPython.core.display.HTML object>"
      ]
     },
     "execution_count": 34,
     "metadata": {},
     "output_type": "execute_result"
    }
   ],
   "source": [
    "# Code for setting the style of the notebook\n",
    "from IPython.core.display import HTML\n",
    "def css_styling():\n",
    "    styles = open(\"../../theme/custom.css\", \"r\").read()\n",
    "    return HTML(styles)\n",
    "css_styling()"
   ]
  },
  {
   "cell_type": "code",
   "execution_count": null,
   "metadata": {
    "collapsed": true
   },
   "outputs": [],
   "source": []
  }
 ],
 "metadata": {
  "kernelspec": {
   "display_name": "Python 2",
   "language": "python",
   "name": "python2"
  },
  "language_info": {
   "codemirror_mode": {
    "name": "ipython",
    "version": 2
   },
   "file_extension": ".py",
   "mimetype": "text/x-python",
   "name": "python",
   "nbconvert_exporter": "python",
   "pygments_lexer": "ipython2",
   "version": "2.7.9"
  }
 },
 "nbformat": 4,
 "nbformat_minor": 0
}
